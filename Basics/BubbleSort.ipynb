{
 "cells": [
  {
   "cell_type": "code",
   "execution_count": null,
   "metadata": {},
   "outputs": [],
   "source": []
  },
  {
   "cell_type": "code",
   "execution_count": null,
   "metadata": {},
   "outputs": [],
   "source": [
    "#Bubble sort implementation\n",
    "\n",
    "\n",
    "def bubbleSort(arr):\n",
    "    \n",
    "    swap_happened= True\n",
    "    \n",
    "    while swap_happened:\n",
    "        print(\"Bubble sort status: \"+str(arr))\n",
    "        swap_happened=False\n",
    "        \n",
    "        for item in range(len(arr)-1):\n",
    "            if(arr[item]>arr[item+1]):\n",
    "                arr[item],arr[item+1]=arr[item+1],arr[item]\n",
    "                swap_happened=True\n",
    "\n",
    "\n",
    "myList = [6, 8, 1, 4, 10, 7, 8, 9, 3, 2, 5]\n",
    "bubbleSort(myList)"
   ]
  },
  {
   "cell_type": "code",
   "execution_count": null,
   "metadata": {},
   "outputs": [],
   "source": []
  },
  {
   "cell_type": "code",
   "execution_count": null,
   "metadata": {},
   "outputs": [],
   "source": []
  },
  {
   "cell_type": "code",
   "execution_count": null,
   "metadata": {},
   "outputs": [],
   "source": [
    "print(\"hi\")"
   ]
  },
  {
   "cell_type": "code",
   "execution_count": null,
   "metadata": {},
   "outputs": [],
   "source": []
  },
  {
   "cell_type": "code",
   "execution_count": null,
   "metadata": {},
   "outputs": [],
   "source": []
  }
 ],
 "metadata": {
  "kernelspec": {
   "display_name": "Python 3",
   "language": "python",
   "name": "python3"
  },
  "language_info": {
   "codemirror_mode": {
    "name": "ipython",
    "version": 3
   },
   "file_extension": ".py",
   "mimetype": "text/x-python",
   "name": "python",
   "nbconvert_exporter": "python",
   "pygments_lexer": "ipython3",
   "version": "3.7.3"
  }
 },
 "nbformat": 4,
 "nbformat_minor": 2
}
