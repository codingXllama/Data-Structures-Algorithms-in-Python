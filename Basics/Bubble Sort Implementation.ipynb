{
 "cells": [
  {
   "cell_type": "markdown",
   "metadata": {},
   "source": [
    "# Bubble sort\n",
    "Algorithm complexity : O(n^2), where n, is the number of items to itter through and sort\n",
    "\n",
    "## Example\n",
    "Sort the following list: 6,8,1,4,10,7,8,9,3,2,5\n",
    "## Solution\n",
    "Start iteration 0: 6,8,1,4,10,7,8,9,3,2,5\n",
    "\n",
    "After iteration 1: 6,1,4,8,7,8,9,3,2,5,10\n",
    "After iteration 2: 1,4,6,7,8,8,3,2,5,9,10\n",
    "Sorted list :      1,2,3,4,5,6,7,8,8,9,10"
   ]
  },
  {
   "cell_type": "code",
   "execution_count": null,
   "metadata": {},
   "outputs": [],
   "source": []
  }
 ],
 "metadata": {
  "kernelspec": {
   "display_name": "Python 3",
   "language": "python",
   "name": "python3"
  },
  "language_info": {
   "codemirror_mode": {
    "name": "ipython",
    "version": 3
   },
   "file_extension": ".py",
   "mimetype": "text/x-python",
   "name": "python",
   "nbconvert_exporter": "python",
   "pygments_lexer": "ipython3",
   "version": "3.7.3"
  }
 },
 "nbformat": 4,
 "nbformat_minor": 2
}
